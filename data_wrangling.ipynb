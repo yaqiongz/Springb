{
 "cells": [
  {
   "cell_type": "markdown",
   "metadata": {},
   "source": [
    "# Capstone 2. Data cleaning & storytelling\n",
    "\n",
    "May 17, 2018\n",
    "***\n",
    "Data source: [kaggle dataset](https://www.kaggle.com/PromptCloudHQ/us-jobs-on-monstercom)\n",
    "\n",
    "**Objective:** As I mentioned in the proposal, the major goal of this capstone project is to help job seekers, especially those new graduates with not previous job experience, find their dream job based on their answers to our questionnaire. \n",
    "\n",
    "Questionnaire will cover those aspects:\n",
    "- Industry \n",
    "- Location\n",
    "- Culture\n",
    "\n",
    "Each aspect need give a number indicating the level of the importance.\n",
    "\n",
    "And finally, we will do a matching between job descriptions and the answer of the questionnaire.\n",
    "***\n",
    "*For example: *\n",
    "\n",
    "I may answer the questionnaire in this way:\n",
    "\n",
    "- Industry = art; artificial intelligence. Weight = 40%\n",
    "- Location = big cities; eastern coast. Weight = 20%\n",
    "- Culture = innovation; big company. Weight = 40%\n",
    "\n",
    "And I hope to get job recommendations from this project."
   ]
  },
  {
   "cell_type": "code",
   "execution_count": 1,
   "metadata": {
    "collapsed": true
   },
   "outputs": [],
   "source": [
    "# Let's get started:\n",
    "\n",
    "%matplotlib inline\n",
    "import pandas as pd\n",
    "import numpy as np\n",
    "import re\n",
    "import matplotlib.pyplot as plt\n",
    "\n",
    "plt.style.use('fivethirtyeight')"
   ]
  },
  {
   "cell_type": "markdown",
   "metadata": {},
   "source": [
    "# Section 1: Look at the dataset and drop some columns"
   ]
  },
  {
   "cell_type": "code",
   "execution_count": 2,
   "metadata": {
    "scrolled": true
   },
   "outputs": [
    {
     "name": "stdout",
     "output_type": "stream",
     "text": [
      "There are 22000 job decriptions in the dataset.\n",
      "The jobs are located in those country:  US\n",
      "3446 out of 22000 job descriptions are tagged with a salary\n"
     ]
    }
   ],
   "source": [
    "# import the dataset and see how it looks like\n",
    "df = pd.read_csv('monster_com-job_sample 2.csv')\n",
    "\n",
    "# some basic inforamtion\n",
    "print('There are {:d} job decriptions in the dataset.'.format(df.shape[0]))\n",
    "print('The jobs are located in those country: ', df.country_code.unique().item())\n",
    "print('{:d} out of 22000 job descriptions are tagged with a salary'.format(22000-sum(df.salary.isnull())))\n"
   ]
  },
  {
   "cell_type": "code",
   "execution_count": 3,
   "metadata": {},
   "outputs": [
    {
     "data": {
      "text/html": [
       "<div>\n",
       "<style>\n",
       "    .dataframe thead tr:only-child th {\n",
       "        text-align: right;\n",
       "    }\n",
       "\n",
       "    .dataframe thead th {\n",
       "        text-align: left;\n",
       "    }\n",
       "\n",
       "    .dataframe tbody tr th {\n",
       "        vertical-align: top;\n",
       "    }\n",
       "</style>\n",
       "<table border=\"1\" class=\"dataframe\">\n",
       "  <thead>\n",
       "    <tr style=\"text-align: right;\">\n",
       "      <th></th>\n",
       "      <th>job_description</th>\n",
       "      <th>job_title</th>\n",
       "      <th>location</th>\n",
       "      <th>organization</th>\n",
       "    </tr>\n",
       "  </thead>\n",
       "  <tbody>\n",
       "    <tr>\n",
       "      <th>0</th>\n",
       "      <td>TeamSoft is seeing an IT Support Specialist to...</td>\n",
       "      <td>IT Support Technician Job in Madison</td>\n",
       "      <td>Madison, WI 53702</td>\n",
       "      <td>NaN</td>\n",
       "    </tr>\n",
       "    <tr>\n",
       "      <th>1</th>\n",
       "      <td>The Wisconsin State Journal is seeking a flexi...</td>\n",
       "      <td>Business Reporter/Editor Job in Madison</td>\n",
       "      <td>Madison, WI 53708</td>\n",
       "      <td>Printing and Publishing</td>\n",
       "    </tr>\n",
       "    <tr>\n",
       "      <th>2</th>\n",
       "      <td>Report this job About the Job DePuy Synthes Co...</td>\n",
       "      <td>Johnson &amp; Johnson Family of Companies Job Appl...</td>\n",
       "      <td>DePuy Synthes Companies is a member of Johnson...</td>\n",
       "      <td>Personal and Household Services</td>\n",
       "    </tr>\n",
       "    <tr>\n",
       "      <th>3</th>\n",
       "      <td>Why Join Altec? If you’re considering a career...</td>\n",
       "      <td>Engineer - Quality Job in Dixon</td>\n",
       "      <td>Dixon, CA</td>\n",
       "      <td>Altec Industries</td>\n",
       "    </tr>\n",
       "    <tr>\n",
       "      <th>4</th>\n",
       "      <td>Position ID#  76162 # Positions  1 State  CT C...</td>\n",
       "      <td>Shift Supervisor - Part-Time Job in Camphill</td>\n",
       "      <td>Camphill, PA</td>\n",
       "      <td>Retail</td>\n",
       "    </tr>\n",
       "  </tbody>\n",
       "</table>\n",
       "</div>"
      ],
      "text/plain": [
       "                                     job_description  \\\n",
       "0  TeamSoft is seeing an IT Support Specialist to...   \n",
       "1  The Wisconsin State Journal is seeking a flexi...   \n",
       "2  Report this job About the Job DePuy Synthes Co...   \n",
       "3  Why Join Altec? If you’re considering a career...   \n",
       "4  Position ID#  76162 # Positions  1 State  CT C...   \n",
       "\n",
       "                                           job_title  \\\n",
       "0               IT Support Technician Job in Madison   \n",
       "1            Business Reporter/Editor Job in Madison   \n",
       "2  Johnson & Johnson Family of Companies Job Appl...   \n",
       "3                    Engineer - Quality Job in Dixon   \n",
       "4       Shift Supervisor - Part-Time Job in Camphill   \n",
       "\n",
       "                                            location  \\\n",
       "0                                  Madison, WI 53702   \n",
       "1                                  Madison, WI 53708   \n",
       "2  DePuy Synthes Companies is a member of Johnson...   \n",
       "3                                          Dixon, CA   \n",
       "4                                       Camphill, PA   \n",
       "\n",
       "                      organization  \n",
       "0                              NaN  \n",
       "1          Printing and Publishing  \n",
       "2  Personal and Household Services  \n",
       "3                 Altec Industries  \n",
       "4                           Retail  "
      ]
     },
     "execution_count": 3,
     "metadata": {},
     "output_type": "execute_result"
    }
   ],
   "source": [
    "# drop columns that are not helpful for the following analysis\n",
    "df = df.drop(df.columns[[0,1,2,3,4,7,10,11,12,13]],axis=1)\n",
    "df.head()"
   ]
  },
  {
   "cell_type": "markdown",
   "metadata": {},
   "source": [
    "In this dataset, we kept those columns which would be useful in the following sections. \n",
    " - The **job_description** and **job_title** will be used to match industry. \n",
    " - **organization** will be used for finding the name of that company and the culture of it. \n",
    " - **location**, will be used to calculate distance, as well as finding out if the job located at big or small city, with increasing or declining population and so on."
   ]
  },
  {
   "cell_type": "markdown",
   "metadata": {},
   "source": [
    "# Section 2: Location \n",
    "\n",
    "## Step 1: extract the location information: zip code, state, city\n"
   ]
  },
  {
   "cell_type": "code",
   "execution_count": 4,
   "metadata": {},
   "outputs": [
    {
     "data": {
      "text/html": [
       "<div>\n",
       "<style>\n",
       "    .dataframe thead tr:only-child th {\n",
       "        text-align: right;\n",
       "    }\n",
       "\n",
       "    .dataframe thead th {\n",
       "        text-align: left;\n",
       "    }\n",
       "\n",
       "    .dataframe tbody tr th {\n",
       "        vertical-align: top;\n",
       "    }\n",
       "</style>\n",
       "<table border=\"1\" class=\"dataframe\">\n",
       "  <thead>\n",
       "    <tr style=\"text-align: right;\">\n",
       "      <th></th>\n",
       "      <th>job_description</th>\n",
       "      <th>job_title</th>\n",
       "      <th>location</th>\n",
       "      <th>organization</th>\n",
       "      <th>zip_code</th>\n",
       "      <th>state</th>\n",
       "      <th>city</th>\n",
       "    </tr>\n",
       "  </thead>\n",
       "  <tbody>\n",
       "    <tr>\n",
       "      <th>0</th>\n",
       "      <td>TeamSoft is seeing an IT Support Specialist to...</td>\n",
       "      <td>IT Support Technician Job in Madison</td>\n",
       "      <td>Madison, WI 53702</td>\n",
       "      <td>NaN</td>\n",
       "      <td>53702</td>\n",
       "      <td>WI</td>\n",
       "      <td>Madison</td>\n",
       "    </tr>\n",
       "    <tr>\n",
       "      <th>1</th>\n",
       "      <td>The Wisconsin State Journal is seeking a flexi...</td>\n",
       "      <td>Business Reporter/Editor Job in Madison</td>\n",
       "      <td>Madison, WI 53708</td>\n",
       "      <td>Printing and Publishing</td>\n",
       "      <td>53708</td>\n",
       "      <td>WI</td>\n",
       "      <td>Madison</td>\n",
       "    </tr>\n",
       "    <tr>\n",
       "      <th>2</th>\n",
       "      <td>Report this job About the Job DePuy Synthes Co...</td>\n",
       "      <td>Johnson &amp; Johnson Family of Companies Job Appl...</td>\n",
       "      <td>DePuy Synthes Companies is a member of Johnson...</td>\n",
       "      <td>Personal and Household Services</td>\n",
       "      <td>NaN</td>\n",
       "      <td>NaN</td>\n",
       "      <td>NaN</td>\n",
       "    </tr>\n",
       "    <tr>\n",
       "      <th>3</th>\n",
       "      <td>Why Join Altec? If you’re considering a career...</td>\n",
       "      <td>Engineer - Quality Job in Dixon</td>\n",
       "      <td>Dixon, CA</td>\n",
       "      <td>Altec Industries</td>\n",
       "      <td>NaN</td>\n",
       "      <td>CA</td>\n",
       "      <td>Dixon</td>\n",
       "    </tr>\n",
       "    <tr>\n",
       "      <th>4</th>\n",
       "      <td>Position ID#  76162 # Positions  1 State  CT C...</td>\n",
       "      <td>Shift Supervisor - Part-Time Job in Camphill</td>\n",
       "      <td>Camphill, PA</td>\n",
       "      <td>Retail</td>\n",
       "      <td>NaN</td>\n",
       "      <td>PA</td>\n",
       "      <td>Camphill</td>\n",
       "    </tr>\n",
       "  </tbody>\n",
       "</table>\n",
       "</div>"
      ],
      "text/plain": [
       "                                     job_description  \\\n",
       "0  TeamSoft is seeing an IT Support Specialist to...   \n",
       "1  The Wisconsin State Journal is seeking a flexi...   \n",
       "2  Report this job About the Job DePuy Synthes Co...   \n",
       "3  Why Join Altec? If you’re considering a career...   \n",
       "4  Position ID#  76162 # Positions  1 State  CT C...   \n",
       "\n",
       "                                           job_title  \\\n",
       "0               IT Support Technician Job in Madison   \n",
       "1            Business Reporter/Editor Job in Madison   \n",
       "2  Johnson & Johnson Family of Companies Job Appl...   \n",
       "3                    Engineer - Quality Job in Dixon   \n",
       "4       Shift Supervisor - Part-Time Job in Camphill   \n",
       "\n",
       "                                            location  \\\n",
       "0                                  Madison, WI 53702   \n",
       "1                                  Madison, WI 53708   \n",
       "2  DePuy Synthes Companies is a member of Johnson...   \n",
       "3                                          Dixon, CA   \n",
       "4                                       Camphill, PA   \n",
       "\n",
       "                      organization zip_code state      city  \n",
       "0                              NaN    53702    WI   Madison  \n",
       "1          Printing and Publishing    53708    WI   Madison  \n",
       "2  Personal and Household Services      NaN   NaN       NaN  \n",
       "3                 Altec Industries      NaN    CA     Dixon  \n",
       "4                           Retail      NaN    PA  Camphill  "
      ]
     },
     "execution_count": 4,
     "metadata": {},
     "output_type": "execute_result"
    }
   ],
   "source": [
    "# extract zip code information from the location column\n",
    "# extract state information from the location column\n",
    "p = re.compile(r'(?<![A-Z])[A-Z]{2}(?![A-Z])')\n",
    "for i, row in df.iterrows():\n",
    "    # add the column zip code\n",
    "    ls = []\n",
    "    for char in row.location:\n",
    "        if char.isdigit():\n",
    "            ls.append(char)\n",
    "    if len(ls) == 5:\n",
    "        df.set_value(i,'zip_code', ''.join(ls))\n",
    "    \n",
    "    # add the column state\n",
    "    str_location = row.location\n",
    "   \n",
    "    if len(str_location) < 100 and len(str_location) > 1:\n",
    "        state = p.search(str_location)\n",
    "        if state is not None:\n",
    "            df.set_value(i, 'state', state.group())\n",
    "            ls = str_location.split(',')\n",
    "            df.set_value(i, 'city', ls[0])\n",
    "df.head()"
   ]
  },
  {
   "cell_type": "markdown",
   "metadata": {},
   "source": [
    "### Dataset exploration 1: look at locations that have the biggest number of jobs"
   ]
  },
  {
   "cell_type": "code",
   "execution_count": 9,
   "metadata": {
    "collapsed": true
   },
   "outputs": [],
   "source": [
    "df_dropna = df[~df.state.isnull()]"
   ]
  },
  {
   "cell_type": "code",
   "execution_count": 43,
   "metadata": {},
   "outputs": [
    {
     "data": {
      "text/plain": [
       "<matplotlib.axes._subplots.AxesSubplot at 0x118bc3f60>"
      ]
     },
     "execution_count": 43,
     "metadata": {},
     "output_type": "execute_result"
    },
    {
     "data": {
      "image/png": "[encoded data removed]",
      "text/plain": [
       "<Figure size 432x288 with 1 Axes>"
      ]
     },
     "metadata": {},
     "output_type": "display_data"
    }
   ],
   "source": [
    "data = df_dropna.groupby('city').count().job_description.sort_values(ascending = False)[:15]\n",
    "data.plot(kind = 'bar')"
   ]
  },
  {
   "cell_type": "code",
   "execution_count": 41,
   "metadata": {},
   "outputs": [
    {
     "data": {
      "text/plain": [
       "<matplotlib.axes._subplots.AxesSubplot at 0x118c9e940>"
      ]
     },
     "execution_count": 41,
     "metadata": {},
     "output_type": "execute_result"
    },
    {
     "data": {
      "image/png": "[encoded data removed]",
      "text/plain": [
       "<Figure size 432x288 with 1 Axes>"
      ]
     },
     "metadata": {},
     "output_type": "display_data"
    }
   ],
   "source": [
    "data = df_dropna.groupby('state').count().job_description.sort_values(ascending = False)[:5]\n",
    "data.plot(kind = 'bar')"
   ]
  },
  {
   "cell_type": "markdown",
   "metadata": {},
   "source": [
    "### Dataset exploration 2: save the DataFrame as excel and mapping the data in the USA map."
   ]
  },
  {
   "cell_type": "code",
   "execution_count": 48,
   "metadata": {},
   "outputs": [
    {
     "name": "stdout",
     "output_type": "stream",
     "text": [
      "/bin/sh: -c: line 0: syntax error near unexpected token `map.png'\r\n",
      "/bin/sh: -c: line 0: `[map](map.png)'\r\n"
     ]
    }
   ],
   "source": [
    "# Create a Pandas Excel writer using XlsxWriter as the engine.\n",
    "writer = pd.ExcelWriter('monster_zipcode.xlsx', engine='xlsxwriter')\n",
    "\n",
    "# Convert the dataframe to an XlsxWriter Excel object.\n",
    "df.to_excel(writer, sheet_name='Sheet1')\n",
    "\n",
    "# Close the Pandas Excel writer and output the Excel file.\n",
    "writer.save()"
   ]
  },
  {
   "cell_type": "markdown",
   "metadata": {},
   "source": [
    "![map](map.png)"
   ]
  },
  {
   "cell_type": "markdown",
   "metadata": {},
   "source": [
    "## Step 2: determine the location index.\n",
    "Location index is determined by the distance from where the job is and where the job seeker currently located. The index is also determined by the quality of the location. People may care different things about the location, such as the population, safety, near big city, near national park, city or country, art, education and so on. We can put all those factors in the questionnaire. This location index can be very complex and it would be impossible to complete in a short time. We'll simplify the calculation by picking 1 or 2 factors, like population and safety.\n"
   ]
  },
  {
   "cell_type": "markdown",
   "metadata": {},
   "source": [
    "# Section 3: Culture\n",
    "\n",
    "In this section, we're trying to judge the culture of a company by the size of the company as well as some key adjectives in the job descriptions, such as \"flexible\", \"motivated\", \"innovative\" and so on.\n",
    "\n",
    "\n",
    "## Step 1: extract company information\n",
    "We want to extract company information, which means we get the name of the company, and we can find out more about the company by google it. When we want to know about a company, we look at several things, like the size of the company, the history of the company, the review of the company as well as if I have networks in there. The same as the previous location section, it can be a big task to complete all the factors we can think of. But I will pick up a few for practice, such as the size of the company.\n",
    "\n",
    "In this dataset, it's a little challenging to get the company name because the company name is not clearly marked in the dataset.\n",
    "\n",
    "The company name is usually associated with key words like \"seek\", \"join\". But still, this not always the case. And from the first job description, the word \"seeking\" was misspelled as \"seeing\". "
   ]
  },
  {
   "cell_type": "code",
   "execution_count": 55,
   "metadata": {},
   "outputs": [
    {
     "data": {
      "text/plain": [
       "'The Wisconsin State Journal is seeking a flexible and motivated reporter/editor to lead its three-person business desk. We’re looking for an experienced journalist able to spot trends, be a watchdog and reflect the Madison area’s vibrant entrepreneurial community. This is a hybrid reporting and editing position that calls for a fleet-footed, multimedia storyteller able to maximize the newspaper’s online presentation while also editing two sections a week. Candidates must have strong news judgment, be well versed in business news and trends and be able to quickly prioritize coverage.At least five years’ experience reporting or editing for digital and print platforms desired. To be considered for the position, applicants must apply online.\\xa0As part of your online application, please attach five samples of your work or links to five recent stories.Wisconsin State Journal, 1901 Fish Hatchery Road, Madison, WI 53713Affirmative Action/Equal Opportunity Employer/Pre-employment drug testing appliesPI94338362Apply Here'"
      ]
     },
     "execution_count": 55,
     "metadata": {},
     "output_type": "execute_result"
    }
   ],
   "source": [
    "# Let's look at an example: \n",
    "df.job_description[1]"
   ]
  },
  {
   "cell_type": "markdown",
   "metadata": {},
   "source": [
    "From the above example:\n",
    "\n",
    "The company we may want extract is \"The Wisconsin State Journal\". \"to lead its three-person business desk\", even I have no idea what does that mean. This maybe confusion that \"three people\" sounds like a startup company, but actually not."
   ]
  },
  {
   "cell_type": "markdown",
   "metadata": {
    "collapsed": true
   },
   "source": [
    "After extracting the company information, we would like to link with another dataset that includes the information of major companies. "
   ]
  },
  {
   "cell_type": "markdown",
   "metadata": {},
   "source": [
    "## Step 2: extract the adjectives from the job description."
   ]
  },
  {
   "cell_type": "markdown",
   "metadata": {},
   "source": [
    "# Section 4: Industry\n",
    "\n",
    "In this section, we're trying to get the industry information of the company. Industry such as sports, media, software, communication, devices, music, non-profit and so on. This information may found from those nouns of the job description. For example, from the job description example of Section 3, we may find \"Journal\", \"reporter\", \"editor\", \"journalist\", \"trends\" and so on may be a good represent of the industry of the company."
   ]
  },
  {
   "cell_type": "code",
   "execution_count": null,
   "metadata": {
    "collapsed": true
   },
   "outputs": [],
   "source": []
  }
 ],
 "metadata": {
  "kernelspec": {
   "display_name": "Python 3",
   "language": "python",
   "name": "python3"
  },
  "language_info": {
   "codemirror_mode": {
    "name": "ipython",
    "version": 3
   },
   "file_extension": ".py",
   "mimetype": "text/x-python",
   "name": "python",
   "nbconvert_exporter": "python",
   "pygments_lexer": "ipython3",
   "version": "3.6.3"
  }
 },
 "nbformat": 4,
 "nbformat_minor": 2
}
